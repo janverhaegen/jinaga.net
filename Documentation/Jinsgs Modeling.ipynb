{
 "metadata": {
  "kernelspec": {
   "display_name": ".NET (C#)",
   "language": "C#",
   "name": ".net-csharp"
  },
  "language_info": {
   "name": "C#"
  }
 },
 "cells": [
  {
   "cell_type": "markdown",
   "source": [
    "C# records only live in memory in a single process. If we want to take that idea of immutable records beyond the .NET runtime, we'll need some help. That's what Jinaga does.\n",
    "\n",
    "We can store immutable records -- what Jinaga calls _facts_ -- in a local database. And we can share them with other computers. And we get the same semantics: two facts with the same type and fields are actually the same fact."
   ],
   "metadata": {}
  },
  {
   "cell_type": "code",
   "execution_count": null,
   "source": [
    "#r \"/Users/michaelperry/Projects/Jinaga.NET/Jinaga.UnitTest/bin/Debug/net5.0/Jinaga.UnitTest.dll\"\n",
    "using Jinaga;\n",
    "\n",
    "[FactType(\"Jinaga.User\")]\n",
    "record User(string publicKey);\n",
    "\n",
    "new User(publicKey)"
   ],
   "outputs": [
    {
     "output_type": "display_data",
     "data": {
      "text/html": [
       "<table><thead><tr><th>publicKey</th></tr></thead><tbody><tr><td><div class=\"dni-plaintext\">MIIBCgKCAQEAp36az4PJ6yNgvnCoaXt2bgZZ4Jce6Hl/zmPeKFE5jyfR7eXwuq3gZuF5DSRIdlcyYOrkawNxxVvWAR4f/tC72yCZsz9thBgu8TAeAAis5AKVGOmPvuXbbqpPG9pNIKlN1U+9EU+XepwS7++RF+amTzdN9+3CTKW1CBeSxeNgdLrLxliRsIuSQtbgcFzDmugFeHnXnj2LUdx08i3Xl/mDh6UHc1NwmtcCwPJYNe6m+dNmKWo1MpcnyYxO9bj922H/hTL30XXnIgQhEweDLLZHbqScZAVrT2yC+S+1+LIB14ZHfSpN0kEfBds9FKA9ZD+OLbTM75tysipMoVId/DjX1wIDAQAB</div></td></tr></tbody></table>"
      ]
     },
     "metadata": {}
    }
   ],
   "metadata": {
    "dotnet_interactive": {
     "language": "csharp"
    }
   }
  },
  {
   "cell_type": "code",
   "execution_count": null,
   "source": [
    "using Jinaga.UnitTest;\n",
    "\n",
    "var j = JinagaTest.Create();\n",
    "\n",
    "var firstUser = await j.Fact(new User(publicKey));\n",
    "var secondUser = await j.Fact(new User(publicKey));\n",
    "\n",
    "firstUser.Equals(secondUser)"
   ],
   "outputs": [
    {
     "output_type": "display_data",
     "data": {
      "text/html": [
       "<div class=\"dni-plaintext\">True</div>"
      ]
     },
     "metadata": {}
    }
   ],
   "metadata": {
    "dotnet_interactive": {
     "language": "csharp"
    }
   }
  },
  {
   "cell_type": "code",
   "execution_count": null,
   "source": [
    "[FactType(\"Corporate.Company\")]\n",
    "record Company(string identifier);\n",
    "\n",
    "[FactType(\"Corporate.Employee\")]\n",
    "record Employee(Company company, int employeeNumber);\n",
    "\n",
    "var contoso = await j.Fact(new Company(\"Contoso\"));\n",
    "var jane = await j.Fact(new Employee(contoso, 1));\n",
    "var bob = await j.Fact(new Employee(contoso, 2));\n",
    "\n",
    "var employees = await j.Query(contoso, Given<Company>.Match((company, facts) =>\n",
    "    facts.OfType<Employee>().Where(employee => employee.company == company)\n",
    "));\n",
    "employees"
   ],
   "outputs": [
    {
     "output_type": "display_data",
     "data": {
      "text/html": [
       "<table><thead><tr><th><i>index</i></th><th>company</th><th>employeeNumber</th></tr></thead><tbody><tr><td>0</td><td><table><thead><tr><th>identifier</th></tr></thead><tbody><tr><td><div class=\"dni-plaintext\">Contoso</div></td></tr></tbody></table></td><td><div class=\"dni-plaintext\">1</div></td></tr><tr><td>1</td><td><table><thead><tr><th>identifier</th></tr></thead><tbody><tr><td><div class=\"dni-plaintext\">Contoso</div></td></tr></tbody></table></td><td><div class=\"dni-plaintext\">2</div></td></tr></tbody></table>"
      ]
     },
     "metadata": {}
    }
   ],
   "metadata": {
    "dotnet_interactive": {
     "language": "csharp"
    }
   }
  }
 ],
 "nbformat": 4,
 "nbformat_minor": 2
}