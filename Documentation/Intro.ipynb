{
 "metadata": {
  "kernelspec": {
   "display_name": ".NET (C#)",
   "language": "C#",
   "name": ".net-csharp"
  },
  "language_info": {
   "name": "C#"
  }
 },
 "cells": [
  {
   "cell_type": "markdown",
   "source": [
    "MySQL has an object called a Sequence. It's entire purpose is to generate increasing numbers. Every time someone asks for a number from the sequence, they are guaranteed to get a number different -- and bigger -- than any number that anyone else has seen.\n",
    "\n",
    "The way that it works is that the Sequence stores a number on a hard drive. When someone asks for a number, it reads the number from the hard drive, increments it, and writes it back. It uses synchronization primitives to make sure that it only produces one number at a time. The number is stored in a location.\n",
    "\n",
    "The reason that MySQL has Sequences is to produce identities. An application will get a number from a Sequence before inserting into a table. It will use that number as the primary key. As long as the application is playing nice, the primary key of that new row is unique.\n",
    "\n",
    "Since the number is stored in a location -- like a hard drive or memory -- and it is used to identify a row, I call this \"location-dependent identity\". If an application wants to create a new object, it has to go to that location, and take a lock, before it can determine the new object's identity. This is a topological bottleneck in a distributed system.\n",
    "\n",
    "What I prefer to do instead is to use \"location-independent identity\". That is identity which does not depend upon a certain special storage location in order to generate something unique. Location-indepedent identity lets parts of a distributed system create new objects without having to talk to each other or wait in line. It's the first step to building a system that is resilient and scalable.\n",
    "\n",
    "One kind of location-independent identity that comes to mind is the GUID: the Globally Unique Identifier. It also goes by the much more ambitious name of the UUID: Universally Unique Identifier. The universe is much bigger than the globe. Here's a GUID:"
   ],
   "metadata": {}
  },
  {
   "cell_type": "code",
   "execution_count": null,
   "source": [
    "Guid.NewGuid()"
   ],
   "outputs": [
    {
     "output_type": "display_data",
     "data": {
      "text/html": [
       "<div class=\"dni-plaintext\">5dcddbb4-ddfd-4f6f-bed5-9370f8ebc9c5</div>"
      ]
     },
     "metadata": {}
    }
   ],
   "metadata": {
    "dotnet_interactive": {
     "language": "csharp"
    }
   }
  },
  {
   "cell_type": "markdown",
   "source": [
    "Any machine is capable of generating a GUID without talking to another machine or waiting in line. And it has a really good chance of being unique. That's partly to do with its structure, but mostly to do with randomness.\n",
    "\n",
    "A GUID is expressed as hexadecimal digits: 0 through f. One digit represents 4 bits of information, as 4 bits can be set in 16 different ways. A GUID has 8+4+4+4+12 = 32 digits, giving 32*4 = 128 bits of information. This is sometimes called a measure of the _entropy_ of the identifier. (Actually, a GUID has less than that because it contains a version number that takes up some of the bits. That 4 at the beginning of the third section is very predictable.)\n",
    "\n",
    "If you want an even better guarantee of uniqueness, then you can ask for more bits of entropy. Here's one that works pretty well. Find a random number from 0 to 2^1024-1. It takes 1024 bits to express this number. Then check to see if it is prime. If not, find a different random number. The number of primes less than N is about the square root of N, and taking the square root cuts the number of bits in half. So your 1024-bit number actually only has 512 bits of entropy.\n",
    "\n",
    "Once you have your 1024-bit prime, find a second one. Multiply these together to get a 2048-bit number. This number will have 1024 bits of entropy. That's a lot more than the 128 (or more like 124) bits of entropy in a GUID. Here's what a number like that looks like:"
   ],
   "metadata": {}
  },
  {
   "cell_type": "code",
   "execution_count": null,
   "source": [
    "using System.Security.Cryptography;\n",
    "\n",
    "var rsa = RSA.Create(2048);\n",
    "byte[] bytes = rsa.ExportRSAPublicKey();\n",
    "string publicKey = Convert.ToBase64String(bytes);\n",
    "publicKey"
   ],
   "outputs": [
    {
     "output_type": "display_data",
     "data": {
      "text/plain": [
       "MIIBCgKCAQEA1nRRcUOTk3hjWj6KZm6nq/4xs36KpvhsYASXok4CiNs+sMRMLWRNnqmT6faHfRGWYZXM6WFR5OD/jL8i7e79Ez5XA+Ec1Jex1O/vw84d4okHl00XqSL+br38suSD+QU7VFizy/aXFXm0Q1BvOQDKOAUvYKaCjTgYaCmRUAYm91L118HLMvm2yQJvUydTPHnA3MRZ/7frovA/K7d+IqaUahISUyJOgYMuX09LaBZ4lDaYA40hBCccFHi5aRvriVLWRmkRbjrVG+Af8+Ob+DKlfH404qF0Rac/j24KzcXm8wXmFZrLtl4IiFB26TR4ZXiJLio1z3yLmOwlg0BKitxjzQIDAQAB"
      ]
     },
     "metadata": {}
    }
   ],
   "metadata": {
    "dotnet_interactive": {
     "language": "csharp"
    }
   }
  },
  {
   "cell_type": "markdown",
   "source": [
    "That number is written in base 64, which has 64 digits as opposed to hexadecimal's 16. It takes 6 bits to write a number between 0 and 63. To write just the product of the two primes would take 2048/6 = 341 digits, but this representation takes 360 digits. Some of them encode other values that are used together with the 2048 bit product. The MIIBCgKCAQEA at the beginning and AQAB at the end are very predictable.\n",
    "\n",
    "This number has some very useful properties, aside from having a lot of entropy. The two primes that were multiplied to create the large number can be kept secret. Only the person who has those secret numbers could digitally sign a document, although it only takes their product to verify that signature. And anybody with the product can encrypt a message, but only the person with the two primes can decrypt it.\n",
    "\n",
    "It turns out that signing documents and decrypting messages are two things that people really like to do. So we will use a 2048-bit product of two prime numbers as the location-independent identity of a person."
   ],
   "metadata": {}
  },
  {
   "cell_type": "code",
   "execution_count": null,
   "source": [
    "#r \"/Users/michaelperry/Projects/Jinaga.NET/Jinaga.UnitTest/bin/Debug/net5.0/Jinaga.UnitTest.dll\"\n",
    "using Jinaga;\n",
    "\n",
    "[FactType(\"Jinaga.User\")]\n",
    "record User(string publicKey);\n",
    "\n",
    "new User(publicKey)"
   ],
   "outputs": [
    {
     "output_type": "display_data",
     "data": {
      "text/html": [
       "<table><thead><tr><th>publicKey</th></tr></thead><tbody><tr><td><div class=\"dni-plaintext\">MIIBCgKCAQEA1nRRcUOTk3hjWj6KZm6nq/4xs36KpvhsYASXok4CiNs+sMRMLWRNnqmT6faHfRGWYZXM6WFR5OD/jL8i7e79Ez5XA+Ec1Jex1O/vw84d4okHl00XqSL+br38suSD+QU7VFizy/aXFXm0Q1BvOQDKOAUvYKaCjTgYaCmRUAYm91L118HLMvm2yQJvUydTPHnA3MRZ/7frovA/K7d+IqaUahISUyJOgYMuX09LaBZ4lDaYA40hBCccFHi5aRvriVLWRmkRbjrVG+Af8+Ob+DKlfH404qF0Rac/j24KzcXm8wXmFZrLtl4IiFB26TR4ZXiJLio1z3yLmOwlg0BKitxjzQIDAQAB</div></td></tr></tbody></table>"
      ]
     },
     "metadata": {}
    }
   ],
   "metadata": {
    "dotnet_interactive": {
     "language": "csharp"
    }
   }
  },
  {
   "cell_type": "markdown",
   "source": [
    "Here we're taking advantage of a new C# construct called a _record_. A record is a class that is immutable by default. That means that the fields can't change. By deciding that the fields can't change, C# can implement Equals and GetHashCode based on those fields. Two people with the same public key must be the same person."
   ],
   "metadata": {}
  },
  {
   "cell_type": "code",
   "execution_count": null,
   "source": [
    "new User(publicKey).Equals(new User(publicKey))"
   ],
   "outputs": [
    {
     "output_type": "display_data",
     "data": {
      "text/html": [
       "<div class=\"dni-plaintext\">True</div>"
      ]
     },
     "metadata": {}
    }
   ],
   "metadata": {
    "dotnet_interactive": {
     "language": "csharp"
    }
   }
  },
  {
   "cell_type": "markdown",
   "source": [
    "That extra bit of nonesense with Jinaga and FactType let's us take that idea of immutable records beyond the .NET runtime. We can store immutable records -- what Jinaga calls _facts_ -- in a local database. And we can share them with other computers. And we get the same semantics: two facts with the same type and fields are actually the same fact."
   ],
   "metadata": {}
  },
  {
   "cell_type": "code",
   "execution_count": null,
   "source": [
    "using Jinaga.UnitTest;\n",
    "\n",
    "var j = JinagaTest.Create();\n",
    "\n",
    "var firstUser = await j.Fact(new User(publicKey));\n",
    "var secondUser = await j.Fact(new User(publicKey));\n",
    "\n",
    "firstUser.Equals(secondUser)"
   ],
   "outputs": [
    {
     "output_type": "display_data",
     "data": {
      "text/html": [
       "<div class=\"dni-plaintext\">True</div>"
      ]
     },
     "metadata": {}
    }
   ],
   "metadata": {
    "dotnet_interactive": {
     "language": "csharp"
    }
   }
  },
  {
   "cell_type": "code",
   "execution_count": null,
   "source": [
    "[FactType(\"Corporate.Company\")]\n",
    "record Company(string identifier);\n",
    "\n",
    "[FactType(\"Corporate.Employee\")]\n",
    "record Employee(Company company, int employeeNumber);\n",
    "\n",
    "var contoso = await j.Fact(new Company(\"Contoso\"));\n",
    "var jane = await j.Fact(new Employee(contoso, 1));\n",
    "var bob = await j.Fact(new Employee(contoso, 2));\n",
    "\n",
    "var employees = await j.Query(contoso, Given<Company>.Match((company, facts) =>\n",
    "    facts.OfType<Employee>().Where(employee => employee.company == company)\n",
    "));\n",
    "employees"
   ],
   "outputs": [
    {
     "output_type": "display_data",
     "data": {
      "text/html": [
       "<table><thead><tr><th><i>index</i></th><th>company</th><th>employeeNumber</th></tr></thead><tbody><tr><td>0</td><td><table><thead><tr><th>identifier</th></tr></thead><tbody><tr><td><div class=\"dni-plaintext\">Contoso</div></td></tr></tbody></table></td><td><div class=\"dni-plaintext\">1</div></td></tr><tr><td>1</td><td><table><thead><tr><th>identifier</th></tr></thead><tbody><tr><td><div class=\"dni-plaintext\">Contoso</div></td></tr></tbody></table></td><td><div class=\"dni-plaintext\">2</div></td></tr></tbody></table>"
      ]
     },
     "metadata": {}
    }
   ],
   "metadata": {
    "dotnet_interactive": {
     "language": "csharp"
    }
   }
  },
  {
   "cell_type": "markdown",
   "source": [
    "I got some employees out."
   ],
   "metadata": {}
  }
 ],
 "nbformat": 4,
 "nbformat_minor": 2
}