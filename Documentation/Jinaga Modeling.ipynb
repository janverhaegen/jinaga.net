{
 "metadata": {
  "kernelspec": {
   "display_name": ".NET (C#)",
   "language": "C#",
   "name": ".net-csharp"
  },
  "language_info": {
   "name": "C#"
  }
 },
 "cells": [
  {
   "cell_type": "markdown",
   "source": [
    "C# records only live in memory in a single process. If we want to take that idea of immutable records beyond the .NET runtime, we'll need some help. That's what Jinaga does.\n",
    "\n",
    "We can store immutable records -- what Jinaga calls _facts_ -- in a local database. And we can share them with other computers. And we get the same semantics: two facts with the same type and fields are actually the same fact."
   ],
   "metadata": {}
  },
  {
   "cell_type": "code",
   "execution_count": null,
   "source": [
    "#r \"../Jinaga.Graphviz/bin/Debug/net5.0/Jinaga.UnitTest.dll\"\n",
    "using Jinaga;\n",
    "\n",
    "[FactType(\"Jinaga.User\")]\n",
    "record User(string publicKey);\n",
    "\n",
    "string publicKey = \"--- PUBLIC KEY ---\";\n",
    "new User(publicKey)"
   ],
   "outputs": [
    {
     "output_type": "display_data",
     "data": {
      "text/html": ""
     },
     "metadata": {}
    }
   ],
   "metadata": {
    "dotnet_interactive": {
     "language": "csharp"
    }
   }
  },
  {
   "cell_type": "code",
   "execution_count": null,
   "source": [
    "using Jinaga.UnitTest;\n",
    "\n",
    "var j = JinagaTest.Create();\n",
    "\n",
    "var firstUser = await j.Fact(new User(publicKey));\n",
    "var secondUser = await j.Fact(new User(publicKey));\n",
    "\n",
    "firstUser.Equals(secondUser)"
   ],
   "outputs": [
    {
     "output_type": "display_data",
     "data": {
      "text/html": ""
     },
     "metadata": {}
    }
   ],
   "metadata": {
    "dotnet_interactive": {
     "language": "csharp"
    }
   }
  },
  {
   "cell_type": "code",
   "execution_count": null,
   "source": [
    "#r \"../Jinaga.Graphviz/bin/Debug/net5.0/Jinaga.Graphviz.dll\"\n",
    "using Jinaga.Graphviz;\n",
    "\n",
    "[FactType(\"Corporate.Company\")]\n",
    "record Company(string identifier);\n",
    "\n",
    "[FactType(\"Corporate.Employee\")]\n",
    "record Employee(Company company, int employeeNumber);\n",
    "\n",
    "var contoso = await j.Fact(new Company(\"Contoso\"));\n",
    "var jane = await j.Fact(new Employee(contoso, 1));\n",
    "var bob = await j.Fact(new Employee(contoso, 2));\n",
    "\n",
    "var employees = await j.Query(contoso, Given<Company>.Match((company, facts) =>\n",
    "    facts.OfType<Employee>().Where(employee => employee.company == company)\n",
    "));\n",
    "Renderer.RenderFacts(employees)"
   ],
   "outputs": [
    {
     "output_type": "display_data",
     "data": {
      "text/html": ""
     },
     "metadata": {}
    }
   ],
   "metadata": {
    "dotnet_interactive": {
     "language": "csharp"
    }
   }
  },
  {
   "cell_type": "code",
   "execution_count": null,
   "source": [
    "[FactType(\"Corporate.Employee.Name\")]\n",
    "record EmployeeName(Employee employee, string name, EmployeeName[] prior);\n",
    "\n",
    "var initialJane = await j.Fact(new EmployeeName(jane, \"Jane\", new EmployeeName[0]));\n",
    "var initialBob = await j.Fact(new EmployeeName(bob, \"Bob\", new EmployeeName[0]));\n",
    "var secondBobMispeld = await j.Fact(new EmployeeName(bob, \"Rober\", new [] { initialBob }));\n",
    "var secondBob = await j.Fact(new EmployeeName(bob, \"Robert\", new [] { initialBob }));\n",
    "var correctedBob = await j.Fact(new EmployeeName(bob, \"Robert\", new [] {\n",
    "    secondBobMispeld, secondBob\n",
    "}));\n",
    "\n",
    "var namesOfEmployees = Given<Company>.Match((company, facts) =>\n",
    "    from employeeName in facts.OfType<EmployeeName>()\n",
    "    where employeeName.employee.company == company\n",
    "    where !(\n",
    "        from next in facts.OfType<EmployeeName>()\n",
    "        where next.prior.Contains(employeeName)\n",
    "        select next\n",
    "    ).Any()\n",
    "    select employeeName\n",
    ");\n",
    "var names = await j.Query(contoso, namesOfEmployees);\n",
    "Renderer.ListTypes(typeof(EmployeeName))"
   ],
   "outputs": [
    {
     "output_type": "display_data",
     "data": {
      "text/html": ""
     },
     "metadata": {}
    }
   ],
   "metadata": {
    "dotnet_interactive": {
     "language": "csharp"
    }
   }
  }
 ],
 "nbformat": 4,
 "nbformat_minor": 2
}