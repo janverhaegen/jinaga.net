{
 "metadata": {
  "kernelspec": {
   "display_name": ".NET (C#)",
   "language": "C#",
   "name": ".net-csharp"
  },
  "language_info": {
   "name": "C#"
  }
 },
 "cells": [
  {
   "cell_type": "markdown",
   "source": [
    "C# records only live in memory in a single process. If we want to take that idea of immutable records beyond the .NET runtime, we'll need some help. That's what Jinaga does.\n",
    "\n",
    "We can store immutable records -- what Jinaga calls _facts_ -- in a local database. And we can share them with other computers. And we get the same semantics: two facts with the same type and fields are actually the same fact."
   ],
   "metadata": {}
  },
  {
   "cell_type": "code",
   "execution_count": null,
   "source": [
    "#r \"../Jinaga.Graphviz/bin/Debug/net5.0/Jinaga.UnitTest.dll\"\r\n",
    "using Jinaga;\r\n",
    "\r\n",
    "[FactType(\"Jinaga.User\")]\r\n",
    "record User(string publicKey);\r\n",
    "\r\n",
    "string publicKey = \"--- PUBLIC KEY ---\";\r\n",
    "new User(publicKey)"
   ],
   "outputs": [
    {
     "output_type": "display_data",
     "data": {
      "text/html": [
       "<table><thead><tr><th>publicKey</th></tr></thead><tbody><tr><td><div class=\"dni-plaintext\">--- PUBLIC KEY ---</div></td></tr></tbody></table>"
      ]
     },
     "metadata": {}
    }
   ],
   "metadata": {
    "dotnet_interactive": {
     "language": "csharp"
    }
   }
  },
  {
   "cell_type": "code",
   "execution_count": null,
   "source": [
    "using Jinaga.UnitTest;\r\n",
    "\r\n",
    "var j = JinagaTest.Create();\r\n",
    "\r\n",
    "var firstUser = await j.Fact(new User(publicKey));\r\n",
    "var secondUser = await j.Fact(new User(publicKey));\r\n",
    "\r\n",
    "firstUser.Equals(secondUser)"
   ],
   "outputs": [
    {
     "output_type": "display_data",
     "data": {
      "text/html": [
       "<div class=\"dni-plaintext\">True</div>"
      ]
     },
     "metadata": {}
    }
   ],
   "metadata": {
    "dotnet_interactive": {
     "language": "csharp"
    }
   }
  },
  {
   "cell_type": "code",
   "execution_count": null,
   "source": [
    "#r \"../Jinaga.Graphviz/bin/Debug/net5.0/Jinaga.Graphviz.dll\"\r\n",
    "using Jinaga.Graphviz;\r\n",
    "\r\n",
    "[FactType(\"Corporate.Company\")]\r\n",
    "record Company(string identifier);\r\n",
    "\r\n",
    "[FactType(\"Corporate.Employee\")]\r\n",
    "record Employee(Company company, int employeeNumber);\r\n",
    "\r\n",
    "var contoso = await j.Fact(new Company(\"Contoso\"));\r\n",
    "var jane = await j.Fact(new Employee(contoso, 1));\r\n",
    "var bob = await j.Fact(new Employee(contoso, 2));\r\n",
    "\r\n",
    "var employees = await j.Query(contoso, Given<Company>.Match((company, facts) =>\r\n",
    "    facts.OfType<Employee>().Where(employee => employee.company == company)\r\n",
    "));\r\n",
    "Renderer.RenderFacts(employees)"
   ],
   "outputs": [
    {
     "output_type": "error",
     "ename": "Error",
     "evalue": "(1,14): error CS0234: The type or namespace name 'Graphviz' does not exist in the namespace 'Jinaga' (are you missing an assembly reference?)\r\n(16,1): error CS0103: The name 'Renderer' does not exist in the current context",
     "traceback": [
      "(1,14): error CS0234: The type or namespace name 'Graphviz' does not exist in the namespace 'Jinaga' (are you missing an assembly reference?)\r\n",
      "(16,1): error CS0103: The name 'Renderer' does not exist in the current context"
     ]
    }
   ],
   "metadata": {
    "dotnet_interactive": {
     "language": "csharp"
    }
   }
  }
 ],
 "nbformat": 4,
 "nbformat_minor": 2
}